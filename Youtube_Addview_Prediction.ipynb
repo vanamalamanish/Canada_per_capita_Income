{
  "nbformat": 4,
  "nbformat_minor": 0,
  "metadata": {
    "colab": {
      "name": "Youtube_Addview_Prediction.ipynb",
      "provenance": [],
      "authorship_tag": "ABX9TyNwsjbJjv2NMbgDrj4/VqTt",
      "include_colab_link": true
    },
    "kernelspec": {
      "name": "python3",
      "display_name": "Python 3"
    },
    "language_info": {
      "name": "python"
    }
  },
  "cells": [
    {
      "cell_type": "markdown",
      "metadata": {
        "id": "view-in-github",
        "colab_type": "text"
      },
      "source": [
        "<a href=\"https://colab.research.google.com/github/vanamalamanish/Machine_learning/blob/main/Youtube_Addview_Prediction.ipynb\" target=\"_parent\"><img src=\"https://colab.research.google.com/assets/colab-badge.svg\" alt=\"Open In Colab\"/></a>"
      ]
    },
    {
      "cell_type": "code",
      "metadata": {
        "id": "M6wtmIB4hnoA"
      },
      "source": [
        "#importing required packages\n",
        "import numpy as np\n",
        "import pandas as pd\n",
        "import matplotlib.pyplot as plt\n",
        "import matplotlib.cm as cm"
      ],
      "execution_count": 1,
      "outputs": []
    },
    {
      "cell_type": "code",
      "metadata": {
        "id": "EmZXwVGEkcvH"
      },
      "source": [
        "#loading data set\n",
        "data_train = pd.read_csv(\"/content/train.csv\")"
      ],
      "execution_count": 2,
      "outputs": []
    },
    {
      "cell_type": "code",
      "metadata": {
        "colab": {
          "base_uri": "https://localhost:8080/",
          "height": 204
        },
        "id": "_Ip5Cu9bkrpA",
        "outputId": "eef3e259-76b2-466a-ba10-d3d547869921"
      },
      "source": [
        "#retriving first five rows using head() method\n",
        "\n",
        "data_train.head()"
      ],
      "execution_count": 3,
      "outputs": [
        {
          "output_type": "execute_result",
          "data": {
            "text/html": [
              "<div>\n",
              "<style scoped>\n",
              "    .dataframe tbody tr th:only-of-type {\n",
              "        vertical-align: middle;\n",
              "    }\n",
              "\n",
              "    .dataframe tbody tr th {\n",
              "        vertical-align: top;\n",
              "    }\n",
              "\n",
              "    .dataframe thead th {\n",
              "        text-align: right;\n",
              "    }\n",
              "</style>\n",
              "<table border=\"1\" class=\"dataframe\">\n",
              "  <thead>\n",
              "    <tr style=\"text-align: right;\">\n",
              "      <th></th>\n",
              "      <th>vidid</th>\n",
              "      <th>adview</th>\n",
              "      <th>views</th>\n",
              "      <th>likes</th>\n",
              "      <th>dislikes</th>\n",
              "      <th>comment</th>\n",
              "      <th>published</th>\n",
              "      <th>duration</th>\n",
              "      <th>category</th>\n",
              "    </tr>\n",
              "  </thead>\n",
              "  <tbody>\n",
              "    <tr>\n",
              "      <th>0</th>\n",
              "      <td>VID_18655</td>\n",
              "      <td>40</td>\n",
              "      <td>1031602</td>\n",
              "      <td>8523</td>\n",
              "      <td>363</td>\n",
              "      <td>1095</td>\n",
              "      <td>2016-09-14</td>\n",
              "      <td>PT7M37S</td>\n",
              "      <td>F</td>\n",
              "    </tr>\n",
              "    <tr>\n",
              "      <th>1</th>\n",
              "      <td>VID_14135</td>\n",
              "      <td>2</td>\n",
              "      <td>1707</td>\n",
              "      <td>56</td>\n",
              "      <td>2</td>\n",
              "      <td>6</td>\n",
              "      <td>2016-10-01</td>\n",
              "      <td>PT9M30S</td>\n",
              "      <td>D</td>\n",
              "    </tr>\n",
              "    <tr>\n",
              "      <th>2</th>\n",
              "      <td>VID_2187</td>\n",
              "      <td>1</td>\n",
              "      <td>2023</td>\n",
              "      <td>25</td>\n",
              "      <td>0</td>\n",
              "      <td>2</td>\n",
              "      <td>2016-07-02</td>\n",
              "      <td>PT2M16S</td>\n",
              "      <td>C</td>\n",
              "    </tr>\n",
              "    <tr>\n",
              "      <th>3</th>\n",
              "      <td>VID_23096</td>\n",
              "      <td>6</td>\n",
              "      <td>620860</td>\n",
              "      <td>777</td>\n",
              "      <td>161</td>\n",
              "      <td>153</td>\n",
              "      <td>2016-07-27</td>\n",
              "      <td>PT4M22S</td>\n",
              "      <td>H</td>\n",
              "    </tr>\n",
              "    <tr>\n",
              "      <th>4</th>\n",
              "      <td>VID_10175</td>\n",
              "      <td>1</td>\n",
              "      <td>666</td>\n",
              "      <td>1</td>\n",
              "      <td>0</td>\n",
              "      <td>0</td>\n",
              "      <td>2016-06-29</td>\n",
              "      <td>PT31S</td>\n",
              "      <td>D</td>\n",
              "    </tr>\n",
              "  </tbody>\n",
              "</table>\n",
              "</div>"
            ],
            "text/plain": [
              "       vidid  adview    views likes  ... comment   published duration category\n",
              "0  VID_18655      40  1031602  8523  ...    1095  2016-09-14  PT7M37S        F\n",
              "1  VID_14135       2     1707    56  ...       6  2016-10-01  PT9M30S        D\n",
              "2   VID_2187       1     2023    25  ...       2  2016-07-02  PT2M16S        C\n",
              "3  VID_23096       6   620860   777  ...     153  2016-07-27  PT4M22S        H\n",
              "4  VID_10175       1      666     1  ...       0  2016-06-29    PT31S        D\n",
              "\n",
              "[5 rows x 9 columns]"
            ]
          },
          "metadata": {
            "tags": []
          },
          "execution_count": 3
        }
      ]
    },
    {
      "cell_type": "code",
      "metadata": {
        "colab": {
          "base_uri": "https://localhost:8080/"
        },
        "id": "cn4qTs8KkuPd",
        "outputId": "44b6c8a5-9f88-495a-8a19-1d433713e381"
      },
      "source": [
        "data_train.shape # shape of dataset"
      ],
      "execution_count": 4,
      "outputs": [
        {
          "output_type": "execute_result",
          "data": {
            "text/plain": [
              "(14999, 9)"
            ]
          },
          "metadata": {
            "tags": []
          },
          "execution_count": 4
        }
      ]
    },
    {
      "cell_type": "code",
      "metadata": {
        "id": "G4rDz52skzGp"
      },
      "source": [
        "#changing the categorical data to numerical data in category\n",
        "c={'A':1,'B':2,'C':3,'D':4,'E':5,'F':6,'G':7,'H':8}\n",
        "data_train[\"category\"]=data_train[\"category\"].map(c)"
      ],
      "execution_count": 5,
      "outputs": []
    },
    {
      "cell_type": "code",
      "metadata": {
        "id": "8JjgGddfludZ"
      },
      "source": [
        "# removing the rows having F values i.e., NA values\n",
        "data_train = data_train[data_train.views!='F']\n",
        "data_train = data_train[data_train.likes!='F']\n",
        "data_train = data_train[data_train.dislikes!='F']\n",
        "data_train = data_train[data_train.comment!='F']"
      ],
      "execution_count": 6,
      "outputs": []
    },
    {
      "cell_type": "code",
      "metadata": {
        "id": "6s6sp97xmFFF"
      },
      "source": [
        "#converting string data to numerical data\n",
        "data_train['views'] = pd.to_numeric(data_train['views'])\n",
        "data_train['comment'] = pd.to_numeric(data_train['comment'])\n",
        "data_train['likes'] = pd.to_numeric(data_train['likes'])\n",
        "data_train['dislikes'] = pd.to_numeric(data_train['dislikes'])\n",
        "data_train['adview'] = pd.to_numeric(data_train['adview'])"
      ],
      "execution_count": 7,
      "outputs": []
    },
    {
      "cell_type": "code",
      "metadata": {
        "id": "UWQ__8SAnMOt"
      },
      "source": [
        "from sklearn.preprocessing import LabelEncoder\n",
        "#converting video id and published attributes to numerical data using LabelEncoder\n",
        "data_train['vidid'] = LabelEncoder().fit_transform(data_train['vidid'])\n",
        "data_train['published'] = LabelEncoder().fit_transform(data_train['published']) "
      ],
      "execution_count": 8,
      "outputs": []
    },
    {
      "cell_type": "code",
      "metadata": {
        "colab": {
          "base_uri": "https://localhost:8080/",
          "height": 419
        },
        "id": "IvMRezQoxzAs",
        "outputId": "5581dea9-8b2f-433c-8677-8fe38f6eca37"
      },
      "source": [
        "data_train"
      ],
      "execution_count": 9,
      "outputs": [
        {
          "output_type": "execute_result",
          "data": {
            "text/html": [
              "<div>\n",
              "<style scoped>\n",
              "    .dataframe tbody tr th:only-of-type {\n",
              "        vertical-align: middle;\n",
              "    }\n",
              "\n",
              "    .dataframe tbody tr th {\n",
              "        vertical-align: top;\n",
              "    }\n",
              "\n",
              "    .dataframe thead th {\n",
              "        text-align: right;\n",
              "    }\n",
              "</style>\n",
              "<table border=\"1\" class=\"dataframe\">\n",
              "  <thead>\n",
              "    <tr style=\"text-align: right;\">\n",
              "      <th></th>\n",
              "      <th>vidid</th>\n",
              "      <th>adview</th>\n",
              "      <th>views</th>\n",
              "      <th>likes</th>\n",
              "      <th>dislikes</th>\n",
              "      <th>comment</th>\n",
              "      <th>published</th>\n",
              "      <th>duration</th>\n",
              "      <th>category</th>\n",
              "    </tr>\n",
              "  </thead>\n",
              "  <tbody>\n",
              "    <tr>\n",
              "      <th>0</th>\n",
              "      <td>5912</td>\n",
              "      <td>40</td>\n",
              "      <td>1031602</td>\n",
              "      <td>8523</td>\n",
              "      <td>363</td>\n",
              "      <td>1095</td>\n",
              "      <td>2168</td>\n",
              "      <td>PT7M37S</td>\n",
              "      <td>6</td>\n",
              "    </tr>\n",
              "    <tr>\n",
              "      <th>1</th>\n",
              "      <td>2741</td>\n",
              "      <td>2</td>\n",
              "      <td>1707</td>\n",
              "      <td>56</td>\n",
              "      <td>2</td>\n",
              "      <td>6</td>\n",
              "      <td>2185</td>\n",
              "      <td>PT9M30S</td>\n",
              "      <td>4</td>\n",
              "    </tr>\n",
              "    <tr>\n",
              "      <th>2</th>\n",
              "      <td>8138</td>\n",
              "      <td>1</td>\n",
              "      <td>2023</td>\n",
              "      <td>25</td>\n",
              "      <td>0</td>\n",
              "      <td>2</td>\n",
              "      <td>2094</td>\n",
              "      <td>PT2M16S</td>\n",
              "      <td>3</td>\n",
              "    </tr>\n",
              "    <tr>\n",
              "      <th>3</th>\n",
              "      <td>9005</td>\n",
              "      <td>6</td>\n",
              "      <td>620860</td>\n",
              "      <td>777</td>\n",
              "      <td>161</td>\n",
              "      <td>153</td>\n",
              "      <td>2119</td>\n",
              "      <td>PT4M22S</td>\n",
              "      <td>8</td>\n",
              "    </tr>\n",
              "    <tr>\n",
              "      <th>4</th>\n",
              "      <td>122</td>\n",
              "      <td>1</td>\n",
              "      <td>666</td>\n",
              "      <td>1</td>\n",
              "      <td>0</td>\n",
              "      <td>0</td>\n",
              "      <td>2091</td>\n",
              "      <td>PT31S</td>\n",
              "      <td>4</td>\n",
              "    </tr>\n",
              "    <tr>\n",
              "      <th>...</th>\n",
              "      <td>...</td>\n",
              "      <td>...</td>\n",
              "      <td>...</td>\n",
              "      <td>...</td>\n",
              "      <td>...</td>\n",
              "      <td>...</td>\n",
              "      <td>...</td>\n",
              "      <td>...</td>\n",
              "      <td>...</td>\n",
              "    </tr>\n",
              "    <tr>\n",
              "      <th>14994</th>\n",
              "      <td>9869</td>\n",
              "      <td>2</td>\n",
              "      <td>525949</td>\n",
              "      <td>1137</td>\n",
              "      <td>83</td>\n",
              "      <td>86</td>\n",
              "      <td>1683</td>\n",
              "      <td>PT6M10S</td>\n",
              "      <td>1</td>\n",
              "    </tr>\n",
              "    <tr>\n",
              "      <th>14995</th>\n",
              "      <td>11758</td>\n",
              "      <td>1</td>\n",
              "      <td>665673</td>\n",
              "      <td>3849</td>\n",
              "      <td>156</td>\n",
              "      <td>569</td>\n",
              "      <td>1838</td>\n",
              "      <td>PT3M56S</td>\n",
              "      <td>4</td>\n",
              "    </tr>\n",
              "    <tr>\n",
              "      <th>14996</th>\n",
              "      <td>13263</td>\n",
              "      <td>4</td>\n",
              "      <td>3479</td>\n",
              "      <td>16</td>\n",
              "      <td>1</td>\n",
              "      <td>1</td>\n",
              "      <td>1053</td>\n",
              "      <td>PT3M13S</td>\n",
              "      <td>2</td>\n",
              "    </tr>\n",
              "    <tr>\n",
              "      <th>14997</th>\n",
              "      <td>6736</td>\n",
              "      <td>1</td>\n",
              "      <td>963</td>\n",
              "      <td>0</td>\n",
              "      <td>0</td>\n",
              "      <td>0</td>\n",
              "      <td>222</td>\n",
              "      <td>PT26S</td>\n",
              "      <td>7</td>\n",
              "    </tr>\n",
              "    <tr>\n",
              "      <th>14998</th>\n",
              "      <td>13592</td>\n",
              "      <td>1</td>\n",
              "      <td>15212</td>\n",
              "      <td>22</td>\n",
              "      <td>5</td>\n",
              "      <td>4</td>\n",
              "      <td>1960</td>\n",
              "      <td>PT1M1S</td>\n",
              "      <td>4</td>\n",
              "    </tr>\n",
              "  </tbody>\n",
              "</table>\n",
              "<p>14637 rows × 9 columns</p>\n",
              "</div>"
            ],
            "text/plain": [
              "       vidid  adview    views  likes  ...  comment  published  duration category\n",
              "0       5912      40  1031602   8523  ...     1095       2168   PT7M37S        6\n",
              "1       2741       2     1707     56  ...        6       2185   PT9M30S        4\n",
              "2       8138       1     2023     25  ...        2       2094   PT2M16S        3\n",
              "3       9005       6   620860    777  ...      153       2119   PT4M22S        8\n",
              "4        122       1      666      1  ...        0       2091     PT31S        4\n",
              "...      ...     ...      ...    ...  ...      ...        ...       ...      ...\n",
              "14994   9869       2   525949   1137  ...       86       1683   PT6M10S        1\n",
              "14995  11758       1   665673   3849  ...      569       1838   PT3M56S        4\n",
              "14996  13263       4     3479     16  ...        1       1053   PT3M13S        2\n",
              "14997   6736       1      963      0  ...        0        222     PT26S        7\n",
              "14998  13592       1    15212     22  ...        4       1960    PT1M1S        4\n",
              "\n",
              "[14637 rows x 9 columns]"
            ]
          },
          "metadata": {
            "tags": []
          },
          "execution_count": 9
        }
      ]
    },
    {
      "cell_type": "code",
      "metadata": {
        "id": "tzXLWsc1x0EK"
      },
      "source": [
        "\n",
        "import datetime\n",
        "import time "
      ],
      "execution_count": 10,
      "outputs": []
    },
    {
      "cell_type": "code",
      "metadata": {
        "id": "Ow001RRIx8wK"
      },
      "source": [
        "#The below function converts duration to numerical value in terms of seconds\n",
        "def checki(x):\n",
        "  y=x[2:]\n",
        "  h,m,s,mm='','','',''\n",
        "  p=['H','M','S']\n",
        "  for i in y:\n",
        "    if i not in p:\n",
        "      mm+=i\n",
        "    else:\n",
        "      if i==\"H\":\n",
        "        h=mm\n",
        "        mm=''\n",
        "      elif i=='M':\n",
        "        m=mm\n",
        "        mm=''\n",
        "      else:\n",
        "        s=mm\n",
        "        mm=''\n",
        "  if h=='':\n",
        "    h='00'\n",
        "  if m=='':\n",
        "    m='00'\n",
        "  if s=='':\n",
        "    s='00'\n",
        "  bp=h+':'+m+':'+s\n",
        "  return bp"
      ],
      "execution_count": 11,
      "outputs": []
    },
    {
      "cell_type": "code",
      "metadata": {
        "id": "9bAIMo_r0LOL"
      },
      "source": [
        "def func_sec(time_string):\n",
        "  h,m,s=time_string.split(\":\")\n",
        "  return int(h)*3600+int(m)*60+int(s)"
      ],
      "execution_count": 12,
      "outputs": []
    },
    {
      "cell_type": "code",
      "metadata": {
        "id": "yfeHE5XV0iSu"
      },
      "source": [
        "time = data_train['duration'].apply(checki)\n",
        "\n",
        "data_train['duration']=time.apply(func_sec)"
      ],
      "execution_count": 13,
      "outputs": []
    },
    {
      "cell_type": "code",
      "metadata": {
        "colab": {
          "base_uri": "https://localhost:8080/",
          "height": 204
        },
        "id": "crUyx_Si0o0N",
        "outputId": "44020e9e-6832-4b79-a13e-65285452abc0"
      },
      "source": [
        "data_train.head()"
      ],
      "execution_count": 14,
      "outputs": [
        {
          "output_type": "execute_result",
          "data": {
            "text/html": [
              "<div>\n",
              "<style scoped>\n",
              "    .dataframe tbody tr th:only-of-type {\n",
              "        vertical-align: middle;\n",
              "    }\n",
              "\n",
              "    .dataframe tbody tr th {\n",
              "        vertical-align: top;\n",
              "    }\n",
              "\n",
              "    .dataframe thead th {\n",
              "        text-align: right;\n",
              "    }\n",
              "</style>\n",
              "<table border=\"1\" class=\"dataframe\">\n",
              "  <thead>\n",
              "    <tr style=\"text-align: right;\">\n",
              "      <th></th>\n",
              "      <th>vidid</th>\n",
              "      <th>adview</th>\n",
              "      <th>views</th>\n",
              "      <th>likes</th>\n",
              "      <th>dislikes</th>\n",
              "      <th>comment</th>\n",
              "      <th>published</th>\n",
              "      <th>duration</th>\n",
              "      <th>category</th>\n",
              "    </tr>\n",
              "  </thead>\n",
              "  <tbody>\n",
              "    <tr>\n",
              "      <th>0</th>\n",
              "      <td>5912</td>\n",
              "      <td>40</td>\n",
              "      <td>1031602</td>\n",
              "      <td>8523</td>\n",
              "      <td>363</td>\n",
              "      <td>1095</td>\n",
              "      <td>2168</td>\n",
              "      <td>457</td>\n",
              "      <td>6</td>\n",
              "    </tr>\n",
              "    <tr>\n",
              "      <th>1</th>\n",
              "      <td>2741</td>\n",
              "      <td>2</td>\n",
              "      <td>1707</td>\n",
              "      <td>56</td>\n",
              "      <td>2</td>\n",
              "      <td>6</td>\n",
              "      <td>2185</td>\n",
              "      <td>570</td>\n",
              "      <td>4</td>\n",
              "    </tr>\n",
              "    <tr>\n",
              "      <th>2</th>\n",
              "      <td>8138</td>\n",
              "      <td>1</td>\n",
              "      <td>2023</td>\n",
              "      <td>25</td>\n",
              "      <td>0</td>\n",
              "      <td>2</td>\n",
              "      <td>2094</td>\n",
              "      <td>136</td>\n",
              "      <td>3</td>\n",
              "    </tr>\n",
              "    <tr>\n",
              "      <th>3</th>\n",
              "      <td>9005</td>\n",
              "      <td>6</td>\n",
              "      <td>620860</td>\n",
              "      <td>777</td>\n",
              "      <td>161</td>\n",
              "      <td>153</td>\n",
              "      <td>2119</td>\n",
              "      <td>262</td>\n",
              "      <td>8</td>\n",
              "    </tr>\n",
              "    <tr>\n",
              "      <th>4</th>\n",
              "      <td>122</td>\n",
              "      <td>1</td>\n",
              "      <td>666</td>\n",
              "      <td>1</td>\n",
              "      <td>0</td>\n",
              "      <td>0</td>\n",
              "      <td>2091</td>\n",
              "      <td>31</td>\n",
              "      <td>4</td>\n",
              "    </tr>\n",
              "  </tbody>\n",
              "</table>\n",
              "</div>"
            ],
            "text/plain": [
              "   vidid  adview    views  likes  ...  comment  published  duration  category\n",
              "0   5912      40  1031602   8523  ...     1095       2168       457         6\n",
              "1   2741       2     1707     56  ...        6       2185       570         4\n",
              "2   8138       1     2023     25  ...        2       2094       136         3\n",
              "3   9005       6   620860    777  ...      153       2119       262         8\n",
              "4    122       1      666      1  ...        0       2091        31         4\n",
              "\n",
              "[5 rows x 9 columns]"
            ]
          },
          "metadata": {
            "tags": []
          },
          "execution_count": 14
        }
      ]
    },
    {
      "cell_type": "code",
      "metadata": {
        "colab": {
          "base_uri": "https://localhost:8080/",
          "height": 265
        },
        "id": "i-X7s3je2AVs",
        "outputId": "bf062228-4cb7-48f0-d42e-d2becb0a92a6"
      },
      "source": [
        "plt.hist(data_train['category'])\n",
        "plt.show()"
      ],
      "execution_count": 15,
      "outputs": [
        {
          "output_type": "display_data",
          "data": {
            "image/png": "[encoded data removed]",
            "text/plain": [
              "<Figure size 432x288 with 1 Axes>"
            ]
          },
          "metadata": {
            "tags": [],
            "needs_background": "light"
          }
        }
      ]
    },
    {
      "cell_type": "code",
      "metadata": {
        "colab": {
          "base_uri": "https://localhost:8080/",
          "height": 276
        },
        "id": "bzJ1kkf02SuZ",
        "outputId": "e7a4dc3b-f672-45a7-f116-42736ec65e0e"
      },
      "source": [
        "#we can see some outliers\n",
        "plt.plot(data_train['adview'])\n",
        "plt.show()"
      ],
      "execution_count": 17,
      "outputs": [
        {
          "output_type": "display_data",
          "data": {
            "image/png": "[encoded data removed]",
            "text/plain": [
              "<Figure size 432x288 with 1 Axes>"
            ]
          },
          "metadata": {
            "tags": [],
            "needs_background": "light"
          }
        }
      ]
    },
    {
      "cell_type": "code",
      "metadata": {
        "colab": {
          "base_uri": "https://localhost:8080/",
          "height": 419
        },
        "id": "KNYwyXOT3b6g",
        "outputId": "a26e0c29-d581-4425-e020-7600be1dd56c"
      },
      "source": [
        "data_train = data_train[data_train['adview']<200000]\n",
        "data_train"
      ],
      "execution_count": 18,
      "outputs": [
        {
          "output_type": "execute_result",
          "data": {
            "text/html": [
              "<div>\n",
              "<style scoped>\n",
              "    .dataframe tbody tr th:only-of-type {\n",
              "        vertical-align: middle;\n",
              "    }\n",
              "\n",
              "    .dataframe tbody tr th {\n",
              "        vertical-align: top;\n",
              "    }\n",
              "\n",
              "    .dataframe thead th {\n",
              "        text-align: right;\n",
              "    }\n",
              "</style>\n",
              "<table border=\"1\" class=\"dataframe\">\n",
              "  <thead>\n",
              "    <tr style=\"text-align: right;\">\n",
              "      <th></th>\n",
              "      <th>vidid</th>\n",
              "      <th>adview</th>\n",
              "      <th>views</th>\n",
              "      <th>likes</th>\n",
              "      <th>dislikes</th>\n",
              "      <th>comment</th>\n",
              "      <th>published</th>\n",
              "      <th>duration</th>\n",
              "      <th>category</th>\n",
              "    </tr>\n",
              "  </thead>\n",
              "  <tbody>\n",
              "    <tr>\n",
              "      <th>0</th>\n",
              "      <td>5912</td>\n",
              "      <td>40</td>\n",
              "      <td>1031602</td>\n",
              "      <td>8523</td>\n",
              "      <td>363</td>\n",
              "      <td>1095</td>\n",
              "      <td>2168</td>\n",
              "      <td>457</td>\n",
              "      <td>6</td>\n",
              "    </tr>\n",
              "    <tr>\n",
              "      <th>1</th>\n",
              "      <td>2741</td>\n",
              "      <td>2</td>\n",
              "      <td>1707</td>\n",
              "      <td>56</td>\n",
              "      <td>2</td>\n",
              "      <td>6</td>\n",
              "      <td>2185</td>\n",
              "      <td>570</td>\n",
              "      <td>4</td>\n",
              "    </tr>\n",
              "    <tr>\n",
              "      <th>2</th>\n",
              "      <td>8138</td>\n",
              "      <td>1</td>\n",
              "      <td>2023</td>\n",
              "      <td>25</td>\n",
              "      <td>0</td>\n",
              "      <td>2</td>\n",
              "      <td>2094</td>\n",
              "      <td>136</td>\n",
              "      <td>3</td>\n",
              "    </tr>\n",
              "    <tr>\n",
              "      <th>3</th>\n",
              "      <td>9005</td>\n",
              "      <td>6</td>\n",
              "      <td>620860</td>\n",
              "      <td>777</td>\n",
              "      <td>161</td>\n",
              "      <td>153</td>\n",
              "      <td>2119</td>\n",
              "      <td>262</td>\n",
              "      <td>8</td>\n",
              "    </tr>\n",
              "    <tr>\n",
              "      <th>4</th>\n",
              "      <td>122</td>\n",
              "      <td>1</td>\n",
              "      <td>666</td>\n",
              "      <td>1</td>\n",
              "      <td>0</td>\n",
              "      <td>0</td>\n",
              "      <td>2091</td>\n",
              "      <td>31</td>\n",
              "      <td>4</td>\n",
              "    </tr>\n",
              "    <tr>\n",
              "      <th>...</th>\n",
              "      <td>...</td>\n",
              "      <td>...</td>\n",
              "      <td>...</td>\n",
              "      <td>...</td>\n",
              "      <td>...</td>\n",
              "      <td>...</td>\n",
              "      <td>...</td>\n",
              "      <td>...</td>\n",
              "      <td>...</td>\n",
              "    </tr>\n",
              "    <tr>\n",
              "      <th>14994</th>\n",
              "      <td>9869</td>\n",
              "      <td>2</td>\n",
              "      <td>525949</td>\n",
              "      <td>1137</td>\n",
              "      <td>83</td>\n",
              "      <td>86</td>\n",
              "      <td>1683</td>\n",
              "      <td>370</td>\n",
              "      <td>1</td>\n",
              "    </tr>\n",
              "    <tr>\n",
              "      <th>14995</th>\n",
              "      <td>11758</td>\n",
              "      <td>1</td>\n",
              "      <td>665673</td>\n",
              "      <td>3849</td>\n",
              "      <td>156</td>\n",
              "      <td>569</td>\n",
              "      <td>1838</td>\n",
              "      <td>236</td>\n",
              "      <td>4</td>\n",
              "    </tr>\n",
              "    <tr>\n",
              "      <th>14996</th>\n",
              "      <td>13263</td>\n",
              "      <td>4</td>\n",
              "      <td>3479</td>\n",
              "      <td>16</td>\n",
              "      <td>1</td>\n",
              "      <td>1</td>\n",
              "      <td>1053</td>\n",
              "      <td>193</td>\n",
              "      <td>2</td>\n",
              "    </tr>\n",
              "    <tr>\n",
              "      <th>14997</th>\n",
              "      <td>6736</td>\n",
              "      <td>1</td>\n",
              "      <td>963</td>\n",
              "      <td>0</td>\n",
              "      <td>0</td>\n",
              "      <td>0</td>\n",
              "      <td>222</td>\n",
              "      <td>26</td>\n",
              "      <td>7</td>\n",
              "    </tr>\n",
              "    <tr>\n",
              "      <th>14998</th>\n",
              "      <td>13592</td>\n",
              "      <td>1</td>\n",
              "      <td>15212</td>\n",
              "      <td>22</td>\n",
              "      <td>5</td>\n",
              "      <td>4</td>\n",
              "      <td>1960</td>\n",
              "      <td>61</td>\n",
              "      <td>4</td>\n",
              "    </tr>\n",
              "  </tbody>\n",
              "</table>\n",
              "<p>14610 rows × 9 columns</p>\n",
              "</div>"
            ],
            "text/plain": [
              "       vidid  adview    views  likes  ...  comment  published  duration  category\n",
              "0       5912      40  1031602   8523  ...     1095       2168       457         6\n",
              "1       2741       2     1707     56  ...        6       2185       570         4\n",
              "2       8138       1     2023     25  ...        2       2094       136         3\n",
              "3       9005       6   620860    777  ...      153       2119       262         8\n",
              "4        122       1      666      1  ...        0       2091        31         4\n",
              "...      ...     ...      ...    ...  ...      ...        ...       ...       ...\n",
              "14994   9869       2   525949   1137  ...       86       1683       370         1\n",
              "14995  11758       1   665673   3849  ...      569       1838       236         4\n",
              "14996  13263       4     3479     16  ...        1       1053       193         2\n",
              "14997   6736       1      963      0  ...        0        222        26         7\n",
              "14998  13592       1    15212     22  ...        4       1960        61         4\n",
              "\n",
              "[14610 rows x 9 columns]"
            ]
          },
          "metadata": {
            "tags": []
          },
          "execution_count": 18
        }
      ]
    },
    {
      "cell_type": "code",
      "metadata": {
        "colab": {
          "base_uri": "https://localhost:8080/",
          "height": 265
        },
        "id": "L-qkVSsO35oA",
        "outputId": "6a86fcfc-df78-46a8-9877-f7d225a26700"
      },
      "source": [
        "plt.plot(data_train['adview'])\n",
        "plt.show()"
      ],
      "execution_count": null,
      "outputs": [
        {
          "output_type": "display_data",
          "data": {
            "image/png": "[encoded data removed]",
            "text/plain": [
              "<Figure size 432x288 with 1 Axes>"
            ]
          },
          "metadata": {
            "tags": [],
            "needs_background": "light"
          }
        }
      ]
    },
    {
      "cell_type": "code",
      "metadata": {
        "colab": {
          "base_uri": "https://localhost:8080/",
          "height": 504
        },
        "id": "lvW7i4V439YF",
        "outputId": "ce206100-222c-4d89-8f04-cbcd4241af70"
      },
      "source": [
        "#finding the correlation between the different attributes and ploting it using heatmap\n",
        "import seaborn as sns\n",
        "f,ax = plt.subplots(figsize=(10,8))\n",
        "corr = data_train.corr()\n",
        "sns.heatmap(corr, mask = np.zeros_like(corr,dtype=np.bool),cmap=sns.diverging_palette(220,10,as_cmap=True),square=True,ax=ax,annot=True)"
      ],
      "execution_count": 19,
      "outputs": [
        {
          "output_type": "execute_result",
          "data": {
            "text/plain": [
              "<matplotlib.axes._subplots.AxesSubplot at 0x7f031380b650>"
            ]
          },
          "metadata": {
            "tags": []
          },
          "execution_count": 19
        },
        {
          "output_type": "display_data",
          "data": {
            "image/png": "[encoded data removed]",
            "text/plain": [
              "<Figure size 720x576 with 2 Axes>"
            ]
          },
          "metadata": {
            "tags": [],
            "needs_background": "light"
          }
        }
      ]
    },
    {
      "cell_type": "code",
      "metadata": {
        "colab": {
          "base_uri": "https://localhost:8080/",
          "height": 419
        },
        "id": "f3N106-1409g",
        "outputId": "93e14260-d5b2-4b5c-babc-366981617ace"
      },
      "source": [
        "Y_train = pd.DataFrame(data=data_train.iloc[:, 1].values,columns=['target'])\n",
        "\n",
        "Y_train"
      ],
      "execution_count": 22,
      "outputs": [
        {
          "output_type": "execute_result",
          "data": {
            "text/html": [
              "<div>\n",
              "<style scoped>\n",
              "    .dataframe tbody tr th:only-of-type {\n",
              "        vertical-align: middle;\n",
              "    }\n",
              "\n",
              "    .dataframe tbody tr th {\n",
              "        vertical-align: top;\n",
              "    }\n",
              "\n",
              "    .dataframe thead th {\n",
              "        text-align: right;\n",
              "    }\n",
              "</style>\n",
              "<table border=\"1\" class=\"dataframe\">\n",
              "  <thead>\n",
              "    <tr style=\"text-align: right;\">\n",
              "      <th></th>\n",
              "      <th>target</th>\n",
              "    </tr>\n",
              "  </thead>\n",
              "  <tbody>\n",
              "    <tr>\n",
              "      <th>0</th>\n",
              "      <td>40</td>\n",
              "    </tr>\n",
              "    <tr>\n",
              "      <th>1</th>\n",
              "      <td>2</td>\n",
              "    </tr>\n",
              "    <tr>\n",
              "      <th>2</th>\n",
              "      <td>1</td>\n",
              "    </tr>\n",
              "    <tr>\n",
              "      <th>3</th>\n",
              "      <td>6</td>\n",
              "    </tr>\n",
              "    <tr>\n",
              "      <th>4</th>\n",
              "      <td>1</td>\n",
              "    </tr>\n",
              "    <tr>\n",
              "      <th>...</th>\n",
              "      <td>...</td>\n",
              "    </tr>\n",
              "    <tr>\n",
              "      <th>14605</th>\n",
              "      <td>2</td>\n",
              "    </tr>\n",
              "    <tr>\n",
              "      <th>14606</th>\n",
              "      <td>1</td>\n",
              "    </tr>\n",
              "    <tr>\n",
              "      <th>14607</th>\n",
              "      <td>4</td>\n",
              "    </tr>\n",
              "    <tr>\n",
              "      <th>14608</th>\n",
              "      <td>1</td>\n",
              "    </tr>\n",
              "    <tr>\n",
              "      <th>14609</th>\n",
              "      <td>1</td>\n",
              "    </tr>\n",
              "  </tbody>\n",
              "</table>\n",
              "<p>14610 rows × 1 columns</p>\n",
              "</div>"
            ],
            "text/plain": [
              "       target\n",
              "0          40\n",
              "1           2\n",
              "2           1\n",
              "3           6\n",
              "4           1\n",
              "...       ...\n",
              "14605       2\n",
              "14606       1\n",
              "14607       4\n",
              "14608       1\n",
              "14609       1\n",
              "\n",
              "[14610 rows x 1 columns]"
            ]
          },
          "metadata": {
            "tags": []
          },
          "execution_count": 22
        }
      ]
    },
    {
      "cell_type": "code",
      "metadata": {
        "colab": {
          "base_uri": "https://localhost:8080/"
        },
        "id": "t6hRTQUjAJvK",
        "outputId": "59b27b36-57d5-4d90-d542-730d9ed8da9a"
      },
      "source": [
        "#spliting the data set \n",
        "from sklearn.model_selection import train_test_split\n",
        "x_train,x_test,y_train,y_test = train_test_split(data_train,Y_train,test_size=0.2,random_state=42)\n",
        "x_train,y_train"
      ],
      "execution_count": 23,
      "outputs": [
        {
          "output_type": "execute_result",
          "data": {
            "text/plain": [
              "(       vidid  adview    views  likes  ...  comment  published  duration  category\n",
              " 14149    574       1     1010     18  ...        2       2316       249         4\n",
              " 1404     830       1     9061    115  ...        5       1125       538         4\n",
              " 757    10224       5   960475    621  ...       73       1174      2650         4\n",
              " 8618   12287       2   218769    992  ...     1776       2171       668         4\n",
              " 3605   13490       1  1743759   1570  ...       68       1817      7945         4\n",
              " ...      ...     ...      ...    ...  ...      ...        ...       ...       ...\n",
              " 5326    9797       1    32256     38  ...       12       2150       113         3\n",
              " 13773  10801       3     4476     10  ...        0       2126       329         4\n",
              " 5532    4367       1     6747    153  ...       51       1296       721         5\n",
              " 883     6599       2  1361366   1384  ...      185       2145       240         7\n",
              " 7459    6088       1    53180   1244  ...       49       1865       480         6\n",
              " \n",
              " [11688 rows x 9 columns],        target\n",
              " 13784       1\n",
              " 1369        1\n",
              " 740         5\n",
              " 8401        2\n",
              " 3509        1\n",
              " ...       ...\n",
              " 5191        1\n",
              " 13418       3\n",
              " 5390        1\n",
              " 860         2\n",
              " 7270        1\n",
              " \n",
              " [11688 rows x 1 columns])"
            ]
          },
          "metadata": {
            "tags": []
          },
          "execution_count": 23
        }
      ]
    },
    {
      "cell_type": "code",
      "metadata": {
        "colab": {
          "base_uri": "https://localhost:8080/"
        },
        "id": "y-7dxRSUBCfn",
        "outputId": "04a43317-11a4-46d7-cadf-9e758af9816b"
      },
      "source": [
        "x_train.shape"
      ],
      "execution_count": 24,
      "outputs": [
        {
          "output_type": "execute_result",
          "data": {
            "text/plain": [
              "(11688, 9)"
            ]
          },
          "metadata": {
            "tags": []
          },
          "execution_count": 24
        }
      ]
    },
    {
      "cell_type": "code",
      "metadata": {
        "colab": {
          "base_uri": "https://localhost:8080/"
        },
        "id": "Z_rIj7NKBIlY",
        "outputId": "e682d537-2537-4189-8c4b-36ff7b2df14f"
      },
      "source": [
        "#scaling the data to fit in the model\n",
        "from sklearn.preprocessing import MinMaxScaler\n",
        "scaler = MinMaxScaler()\n",
        "x_train = scaler.fit_transform(x_train)\n",
        "y_train = scaler.fit_transform(y_train)\n",
        "x_train,y_train"
      ],
      "execution_count": 25,
      "outputs": [
        {
          "output_type": "execute_result",
          "data": {
            "text/plain": [
              "(array([[3.91527161e-02, 0.00000000e+00, 6.96135585e-06, ...,\n",
              "         9.71872376e-01, 5.88416003e-03, 4.28571429e-01],\n",
              "        [5.66450290e-02, 0.00000000e+00, 6.52817263e-05, ...,\n",
              "         4.71872376e-01, 1.27135667e-02, 4.28571429e-01],\n",
              "        [6.98530919e-01, 2.03902698e-05, 6.95719788e-03, ...,\n",
              "         4.92443325e-01, 6.26225867e-02, 4.28571429e-01],\n",
              "        ...,\n",
              "        [2.98325931e-01, 0.00000000e+00, 4.85194189e-05, ...,\n",
              "         5.43660789e-01, 1.70380698e-02, 5.71428571e-01],\n",
              "        [4.50837035e-01, 5.09756744e-06, 9.86119882e-03, ...,\n",
              "         9.00083963e-01, 5.67147955e-03, 8.57142857e-01],\n",
              "        [4.15920738e-01, 0.00000000e+00, 3.84873879e-04, ...,\n",
              "         7.82535684e-01, 1.13429591e-02, 7.14285714e-01]]),\n",
              " array([[0.00000000e+00],\n",
              "        [0.00000000e+00],\n",
              "        [2.03902698e-05],\n",
              "        ...,\n",
              "        [0.00000000e+00],\n",
              "        [5.09756744e-06],\n",
              "        [0.00000000e+00]]))"
            ]
          },
          "metadata": {
            "tags": []
          },
          "execution_count": 25
        }
      ]
    },
    {
      "cell_type": "code",
      "metadata": {
        "id": "Vah0Cpf7CTL4"
      },
      "source": [
        "from sklearn import metrics\n",
        "#defining a function to print different metrics by the model\n",
        "def print_error(x_test,y_test,model_name):\n",
        "  prediction = model_name.predict(x_test)\n",
        "  print(\"Mean Absolute Error: \",metrics.mean_absolute_error(y_test,prediction))\n",
        "  print(\"Mean Squared Error: \",metrics.mean_squared_error(y_test,prediction))\n",
        "  print(\"Root Mean Squared Error: \",np.sqrt(metrics.mean_squared_error(y_test,prediction)))"
      ],
      "execution_count": 31,
      "outputs": []
    },
    {
      "cell_type": "code",
      "metadata": {
        "colab": {
          "base_uri": "https://localhost:8080/"
        },
        "id": "uafUtJfuGP-f",
        "outputId": "8c01a5f0-5d02-4d19-e102-d031f6301d9e"
      },
      "source": [
        "#linear Regression\n",
        "from sklearn import linear_model\n",
        "linear_regression = linear_model.LinearRegression()\n",
        "linear_regression.fit(x_train,y_train)\n",
        "print_error(x_test,y_test,linear_regression)"
      ],
      "execution_count": 33,
      "outputs": [
        {
          "output_type": "stream",
          "text": [
            "Mean Absolute Error:  3.2510522063618976e-10\n",
            "Mean Squared Error:  6.693325781933848e-19\n",
            "Root Mean Squared Error:  8.181274828493325e-10\n"
          ],
          "name": "stdout"
        }
      ]
    },
    {
      "cell_type": "code",
      "metadata": {
        "colab": {
          "base_uri": "https://localhost:8080/"
        },
        "id": "DLpsXwMGHRNW",
        "outputId": "ce53c4f5-de8c-4b55-becf-d96578b741e9"
      },
      "source": [
        "#DecisionTreeRegressor\n",
        "from sklearn.tree import DecisionTreeRegressor\n",
        "decision_tree = DecisionTreeRegressor()\n",
        "decision_tree.fit(x_train,y_train)\n",
        "print_error(x_test,y_test,decision_tree)"
      ],
      "execution_count": 35,
      "outputs": [
        {
          "output_type": "stream",
          "text": [
            "Mean Absolute Error:  916.8925393566051\n",
            "Mean Squared Error:  68658405.04106776\n",
            "Root Mean Squared Error:  8286.036751129443\n"
          ],
          "name": "stdout"
        }
      ]
    },
    {
      "cell_type": "code",
      "metadata": {
        "colab": {
          "base_uri": "https://localhost:8080/"
        },
        "id": "aUkmS_6QIZPS",
        "outputId": "5f260ad8-e388-4d8f-98b4-d4364f59bfe2"
      },
      "source": [
        "#Random forest Regressor\n",
        "from sklearn.ensemble import RandomForestRegressor\n",
        "random_forest = RandomForestRegressor(n_estimators=100,max_depth=25,min_samples_split=15,min_samples_leaf=2)\n",
        "random_forest.fit(x_train,y_train)\n",
        "print_error(x_test,y_test,random_forest)"
      ],
      "execution_count": 34,
      "outputs": [
        {
          "output_type": "stream",
          "text": [
            "/usr/local/lib/python3.7/dist-packages/ipykernel_launcher.py:4: DataConversionWarning: A column-vector y was passed when a 1d array was expected. Please change the shape of y to (n_samples,), for example using ravel().\n",
            "  after removing the cwd from sys.path.\n"
          ],
          "name": "stderr"
        },
        {
          "output_type": "stream",
          "text": [
            "Mean Absolute Error:  917.0567030541221\n",
            "Mean Squared Error:  68658706.10895647\n",
            "Root Mean Squared Error:  8286.054918292328\n"
          ],
          "name": "stdout"
        }
      ]
    },
    {
      "cell_type": "code",
      "metadata": {
        "colab": {
          "base_uri": "https://localhost:8080/"
        },
        "id": "H5SCT0UOJ-cY",
        "outputId": "cdd0d745-1d1f-46ee-d47e-343e5cd7b2db"
      },
      "source": [
        "# support vector regressor\n",
        "from sklearn.svm import SVR\n",
        "supportvector_regressor = SVR()\n",
        "supportvector_regressor.fit(x_train,y_train)\n",
        "print_error(x_test,y_test,supportvector_regressor)"
      ],
      "execution_count": 36,
      "outputs": [
        {
          "output_type": "stream",
          "text": [
            "Mean Absolute Error:  917.663190993509\n",
            "Mean Squared Error:  68659818.84444435\n",
            "Root Mean Squared Error:  8286.122063091054\n"
          ],
          "name": "stdout"
        },
        {
          "output_type": "stream",
          "text": [
            "/usr/local/lib/python3.7/dist-packages/sklearn/utils/validation.py:760: DataConversionWarning: A column-vector y was passed when a 1d array was expected. Please change the shape of y to (n_samples, ), for example using ravel().\n",
            "  y = column_or_1d(y, warn=True)\n"
          ],
          "name": "stderr"
        }
      ]
    },
    {
      "cell_type": "code",
      "metadata": {
        "colab": {
          "base_uri": "https://localhost:8080/"
        },
        "id": "sBiPN89xKasc",
        "outputId": "fc1f03f5-11b5-4292-91da-8fe71edf1bf7"
      },
      "source": [
        "# neural network\n",
        "import keras\n",
        "from keras.layers import Dense\n",
        "ann = keras.models.Sequential(\n",
        "    [\n",
        "     Dense(6,activation='relu',input_shape=x_train.shape[1:]),Dense(6,activation='relu'),Dense(1)\n",
        "    ]\n",
        ")\n",
        "optimizer=keras.optimizers.Adam()\n",
        "loss=keras.losses.mean_squared_error\n",
        "ann.compile(optimizer=optimizer,loss=loss,metrics=['mean_squared_error'])\n",
        "history=ann.fit(x_train,y_train,epochs=50)\n"
      ],
      "execution_count": 37,
      "outputs": [
        {
          "output_type": "stream",
          "text": [
            "Epoch 1/50\n",
            "366/366 [==============================] - 14s 1ms/step - loss: 0.0018 - mean_squared_error: 0.0018\n",
            "Epoch 2/50\n",
            "366/366 [==============================] - 0s 1ms/step - loss: 0.0018 - mean_squared_error: 0.0018\n",
            "Epoch 3/50\n",
            "366/366 [==============================] - 0s 1ms/step - loss: 0.0015 - mean_squared_error: 0.0015\n",
            "Epoch 4/50\n",
            "366/366 [==============================] - 0s 1ms/step - loss: 0.0017 - mean_squared_error: 0.0017\n",
            "Epoch 5/50\n",
            "366/366 [==============================] - 0s 1ms/step - loss: 0.0014 - mean_squared_error: 0.0014\n",
            "Epoch 6/50\n",
            "366/366 [==============================] - 0s 1ms/step - loss: 0.0016 - mean_squared_error: 0.0016\n",
            "Epoch 7/50\n",
            "366/366 [==============================] - 0s 1ms/step - loss: 8.7230e-04 - mean_squared_error: 8.7230e-04\n",
            "Epoch 8/50\n",
            "366/366 [==============================] - 0s 1ms/step - loss: 5.0170e-04 - mean_squared_error: 5.0170e-04\n",
            "Epoch 9/50\n",
            "366/366 [==============================] - 0s 1ms/step - loss: 4.3392e-04 - mean_squared_error: 4.3392e-04\n",
            "Epoch 10/50\n",
            "366/366 [==============================] - 0s 1ms/step - loss: 3.4352e-04 - mean_squared_error: 3.4352e-04\n",
            "Epoch 11/50\n",
            "366/366 [==============================] - 0s 1ms/step - loss: 2.5420e-04 - mean_squared_error: 2.5420e-04\n",
            "Epoch 12/50\n",
            "366/366 [==============================] - 0s 1ms/step - loss: 2.3569e-04 - mean_squared_error: 2.3569e-04\n",
            "Epoch 13/50\n",
            "366/366 [==============================] - 0s 1ms/step - loss: 1.7060e-04 - mean_squared_error: 1.7060e-04\n",
            "Epoch 14/50\n",
            "366/366 [==============================] - 0s 1ms/step - loss: 1.6050e-04 - mean_squared_error: 1.6050e-04\n",
            "Epoch 15/50\n",
            "366/366 [==============================] - 0s 1ms/step - loss: 8.3713e-05 - mean_squared_error: 8.3713e-05\n",
            "Epoch 16/50\n",
            "366/366 [==============================] - 0s 1ms/step - loss: 4.1351e-05 - mean_squared_error: 4.1351e-05\n",
            "Epoch 17/50\n",
            "366/366 [==============================] - 0s 1ms/step - loss: 5.4664e-05 - mean_squared_error: 5.4664e-05\n",
            "Epoch 18/50\n",
            "366/366 [==============================] - 0s 1ms/step - loss: 2.7439e-05 - mean_squared_error: 2.7439e-05\n",
            "Epoch 19/50\n",
            "366/366 [==============================] - 0s 1ms/step - loss: 2.6606e-05 - mean_squared_error: 2.6606e-05\n",
            "Epoch 20/50\n",
            "366/366 [==============================] - 0s 1ms/step - loss: 2.5653e-05 - mean_squared_error: 2.5653e-05\n",
            "Epoch 21/50\n",
            "366/366 [==============================] - 0s 1ms/step - loss: 1.4932e-05 - mean_squared_error: 1.4932e-05\n",
            "Epoch 22/50\n",
            "366/366 [==============================] - 0s 1ms/step - loss: 1.1367e-05 - mean_squared_error: 1.1367e-05\n",
            "Epoch 23/50\n",
            "366/366 [==============================] - 0s 1ms/step - loss: 9.0088e-06 - mean_squared_error: 9.0088e-06\n",
            "Epoch 24/50\n",
            "366/366 [==============================] - 0s 1ms/step - loss: 1.8731e-05 - mean_squared_error: 1.8731e-05\n",
            "Epoch 25/50\n",
            "366/366 [==============================] - 0s 1ms/step - loss: 9.9296e-06 - mean_squared_error: 9.9296e-06\n",
            "Epoch 26/50\n",
            "366/366 [==============================] - 0s 1ms/step - loss: 3.0009e-06 - mean_squared_error: 3.0009e-06\n",
            "Epoch 27/50\n",
            "366/366 [==============================] - 0s 1ms/step - loss: 3.0800e-06 - mean_squared_error: 3.0800e-06\n",
            "Epoch 28/50\n",
            "366/366 [==============================] - 0s 1ms/step - loss: 1.2839e-06 - mean_squared_error: 1.2839e-06\n",
            "Epoch 29/50\n",
            "366/366 [==============================] - 0s 1ms/step - loss: 6.2099e-07 - mean_squared_error: 6.2099e-07\n",
            "Epoch 30/50\n",
            "366/366 [==============================] - 0s 1ms/step - loss: 1.1093e-06 - mean_squared_error: 1.1093e-06\n",
            "Epoch 31/50\n",
            "366/366 [==============================] - 0s 1ms/step - loss: 6.6546e-07 - mean_squared_error: 6.6546e-07\n",
            "Epoch 32/50\n",
            "366/366 [==============================] - 0s 1ms/step - loss: 8.1569e-07 - mean_squared_error: 8.1569e-07\n",
            "Epoch 33/50\n",
            "366/366 [==============================] - 0s 1ms/step - loss: 3.3396e-07 - mean_squared_error: 3.3396e-07\n",
            "Epoch 34/50\n",
            "366/366 [==============================] - 0s 1ms/step - loss: 7.7280e-07 - mean_squared_error: 7.7280e-07\n",
            "Epoch 35/50\n",
            "366/366 [==============================] - 0s 1ms/step - loss: 4.1903e-07 - mean_squared_error: 4.1903e-07\n",
            "Epoch 36/50\n",
            "366/366 [==============================] - 0s 1ms/step - loss: 3.2722e-07 - mean_squared_error: 3.2722e-07\n",
            "Epoch 37/50\n",
            "366/366 [==============================] - 0s 1ms/step - loss: 3.8638e-07 - mean_squared_error: 3.8638e-07\n",
            "Epoch 38/50\n",
            "366/366 [==============================] - 0s 1ms/step - loss: 3.8320e-07 - mean_squared_error: 3.8320e-07\n",
            "Epoch 39/50\n",
            "366/366 [==============================] - 0s 1ms/step - loss: 6.7879e-07 - mean_squared_error: 6.7879e-07\n",
            "Epoch 40/50\n",
            "366/366 [==============================] - 0s 1ms/step - loss: 2.7428e-07 - mean_squared_error: 2.7428e-07\n",
            "Epoch 41/50\n",
            "366/366 [==============================] - 0s 1ms/step - loss: 2.7489e-07 - mean_squared_error: 2.7489e-07\n",
            "Epoch 42/50\n",
            "366/366 [==============================] - 0s 1ms/step - loss: 1.8288e-07 - mean_squared_error: 1.8288e-07\n",
            "Epoch 43/50\n",
            "366/366 [==============================] - 0s 1ms/step - loss: 2.1942e-07 - mean_squared_error: 2.1942e-07\n",
            "Epoch 44/50\n",
            "366/366 [==============================] - 0s 1ms/step - loss: 3.0705e-07 - mean_squared_error: 3.0705e-07\n",
            "Epoch 45/50\n",
            "366/366 [==============================] - 0s 1ms/step - loss: 1.5553e-07 - mean_squared_error: 1.5553e-07\n",
            "Epoch 46/50\n",
            "366/366 [==============================] - 0s 1ms/step - loss: 3.3441e-07 - mean_squared_error: 3.3441e-07\n",
            "Epoch 47/50\n",
            "366/366 [==============================] - 0s 1ms/step - loss: 1.9933e-08 - mean_squared_error: 1.9933e-08\n",
            "Epoch 48/50\n",
            "366/366 [==============================] - 0s 1ms/step - loss: 2.5153e-07 - mean_squared_error: 2.5153e-07\n",
            "Epoch 49/50\n",
            "366/366 [==============================] - 0s 1ms/step - loss: 4.8782e-07 - mean_squared_error: 4.8782e-07\n",
            "Epoch 50/50\n",
            "366/366 [==============================] - 0s 1ms/step - loss: 1.0818e-08 - mean_squared_error: 1.0818e-08\n"
          ],
          "name": "stdout"
        }
      ]
    },
    {
      "cell_type": "code",
      "metadata": {
        "colab": {
          "base_uri": "https://localhost:8080/"
        },
        "id": "srCW9G6oMCnp",
        "outputId": "0fac4e00-b330-4eb0-dc48-80d968351865"
      },
      "source": [
        "ann.summary()"
      ],
      "execution_count": 38,
      "outputs": [
        {
          "output_type": "stream",
          "text": [
            "Model: \"sequential\"\n",
            "_________________________________________________________________\n",
            "Layer (type)                 Output Shape              Param #   \n",
            "=================================================================\n",
            "dense (Dense)                (None, 6)                 60        \n",
            "_________________________________________________________________\n",
            "dense_1 (Dense)              (None, 6)                 42        \n",
            "_________________________________________________________________\n",
            "dense_2 (Dense)              (None, 1)                 7         \n",
            "=================================================================\n",
            "Total params: 109\n",
            "Trainable params: 109\n",
            "Non-trainable params: 0\n",
            "_________________________________________________________________\n"
          ],
          "name": "stdout"
        }
      ]
    },
    {
      "cell_type": "code",
      "metadata": {
        "colab": {
          "base_uri": "https://localhost:8080/"
        },
        "id": "GYdI8Eu2M2V1",
        "outputId": "84df8111-4563-4564-ac92-35d5fa3c8bff"
      },
      "source": [
        "print_error(x_test,y_test,ann)"
      ],
      "execution_count": 39,
      "outputs": [
        {
          "output_type": "stream",
          "text": [
            "Mean Absolute Error:  38793.75856542998\n",
            "Mean Squared Error:  9455373795.524324\n",
            "Root Mean Squared Error:  97238.74636956363\n"
          ],
          "name": "stdout"
        }
      ]
    },
    {
      "cell_type": "code",
      "metadata": {
        "id": "laFhePWhNJSA",
        "colab": {
          "base_uri": "https://localhost:8080/"
        },
        "outputId": "7a8aebb3-82ad-42ac-8695-1cc3bf0fa0ce"
      },
      "source": [
        "#Saving Scikitlearn models\n",
        "import joblib\n",
        "joblib.dump(decision_tree, \"decisiontree_youtubeadview.pkl\")\n"
      ],
      "execution_count": 40,
      "outputs": [
        {
          "output_type": "execute_result",
          "data": {
            "text/plain": [
              "['decisiontree_youtubeadview.pkl']"
            ]
          },
          "metadata": {
            "tags": []
          },
          "execution_count": 40
        }
      ]
    },
    {
      "cell_type": "code",
      "metadata": {
        "id": "ctY0Lf6oxLby"
      },
      "source": [
        "# Saving Keras Artificial Neural Network model\n",
        "ann.save(\"ann_youtubeadview.h5\")"
      ],
      "execution_count": 41,
      "outputs": []
    }
  ]
}